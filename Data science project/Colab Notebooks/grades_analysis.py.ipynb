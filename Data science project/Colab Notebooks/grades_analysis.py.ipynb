{
 "cells": [
  {
   "cell_type": "code",
   "execution_count": null,
   "id": "6yiLGcLYRpXn",
   "metadata": {
    "id": "6yiLGcLYRpXn"
   },
   "outputs": [],
   "source": [
    "#Q1\n",
    "import numpy as np\n",
    "grades = np.array( [85, 90, 88, 92, 95, 80, 75, 98, 89, 83])\n",
    "print(grades)"
   ]
  },
  {
   "cell_type": "code",
   "execution_count": null,
   "id": "d7fa0a56",
   "metadata": {
    "id": "d7fa0a56",
    "outputId": "7a39e737-4763-41e8-bf94-2f336f3b8915"
   },
   "outputs": [
    {
     "name": "stdout",
     "output_type": "stream",
     "text": [
      "88.5\n"
     ]
    }
   ],
   "source": [
    "#Q2 median\n",
    "grades_median = np.median(grades)\n",
    "print(grades_median)"
   ]
  },
  {
   "cell_type": "code",
   "execution_count": null,
   "id": "4c1852e0",
   "metadata": {},
   "outputs": [],
   "source": [
    "#Q2 Mean\n",
    "grades_mean = np.mean(grades)\n",
    "print(grades_mean)"
   ]
  },
  {
   "cell_type": "code",
   "execution_count": null,
   "id": "3670f3e5",
   "metadata": {
    "id": "3670f3e5",
    "outputId": "93ca8c23-447c-4410-8102-0aca6b66b6a7"
   },
   "outputs": [
    {
     "name": "stdout",
     "output_type": "stream",
     "text": [
      "6.591661399070799\n"
     ]
    }
   ],
   "source": [
    "#Q2 SD\n",
    "grades_std = np.std(grades)\n",
    "print(grades_std)"
   ]
  },
  {
   "cell_type": "code",
   "execution_count": null,
   "id": "5fd5fca3",
   "metadata": {
    "id": "5fd5fca3",
    "outputId": "9e634d76-5f7c-4059-90fc-8ef0ce729412"
   },
   "outputs": [
    {
     "name": "stdout",
     "output_type": "stream",
     "text": [
      " minimum grade 75\n",
      " maximum grade 98\n"
     ]
    }
   ],
   "source": [
    "#Q3 max and min\n",
    "#Mean\n",
    "grades_min = np.min(grades)\n",
    "print(\" minimum grade \" + str(grades_min))\n",
    "\n",
    "grades_max = np.max(grades)\n",
    "print(\" maximum grade \" + str(grades_max))\n"
   ]
  },
  {
   "cell_type": "code",
   "execution_count": null,
   "id": "0180ca24",
   "metadata": {
    "id": "0180ca24",
    "outputId": "e0a210e7-9302-4495-bbcc-6417959c0a99"
   },
   "outputs": [
    {
     "data": {
      "text/plain": [
       "array([75, 80, 83, 85, 88, 89, 90, 92, 95, 98])"
      ]
     },
     "execution_count": 6,
     "metadata": {},
     "output_type": "execute_result"
    }
   ],
   "source": [
    "# Q4 sort\n",
    "grades_sort = np.sort(grades)\n",
    "print(grades_sort)\n"
   ]
  },
  {
   "cell_type": "code",
   "execution_count": null,
   "id": "7fb888d5",
   "metadata": {
    "id": "7fb888d5",
    "outputId": "0ff517b9-5d4e-4a0a-cefa-fb8a98285160"
   },
   "outputs": [
    {
     "data": {
      "text/plain": [
       "98"
      ]
     },
     "execution_count": 7,
     "metadata": {},
     "output_type": "execute_result"
    }
   ],
   "source": [
    "#Q5\n",
    "grades_sort\n",
    "print(grades_sort[-1])\n"
   ]
  },
  {
   "cell_type": "code",
   "execution_count": null,
   "id": "7d2998e4",
   "metadata": {
    "id": "7d2998e4",
    "outputId": "87558750-6b47-4609-87b2-216dd4eb1f38"
   },
   "outputs": [
    {
     "name": "stdout",
     "output_type": "stream",
     "text": [
      "the percentage above 90 is30.0%\n"
     ]
    }
   ],
   "source": [
    "#Q6\n",
    "above90 = []\n",
    "grade =np.array( [85, 90, 88, 92, 95, 80, 75, 98, 89, 83])\n",
    "for score in grade:\n",
    "    if score > 90:\n",
    "        above90.append(score)\n",
    "count_above90= len(above90)\n",
    "all_grade = len(grade)\n",
    "percentage_above_90 =(count_above90/all_grade) * 100\n",
    "print(\"the percentage above 90 is \" + str(percentage_above_90)+\"%\")\n"
   ]
  },
  {
   "cell_type": "code",
   "execution_count": null,
   "id": "fa36fb72",
   "metadata": {
    "id": "fa36fb72",
    "outputId": "0d13f79c-dccf-4560-d6e2-8e09f1ea23c6"
   },
   "outputs": [
    {
     "name": "stdout",
     "output_type": "stream",
     "text": [
      "the percentage below 75  is 0.0%\n"
     ]
    }
   ],
   "source": [
    "#Q7\n",
    "\n",
    "below75 = []\n",
    "grade =np.array( [85, 90, 88, 92, 95, 80, 75, 98, 89, 83])\n",
    "for score in grade:\n",
    "    if score < 75:\n",
    "        below75.append(score)\n",
    "count_below75= len(below75)\n",
    "all_grade = len(grade)\n",
    "percentage_below75 =(count_below75/all_grade) * 100\n",
    "print(\"the percentage below 75  is \" + str(percentage_below75)+\"%\")"
   ]
  },
  {
   "cell_type": "code",
   "execution_count": null,
   "id": "86fa0823",
   "metadata": {
    "id": "86fa0823",
    "outputId": "fa64d358-3d00-40ab-f5b7-e8ff34494aec"
   },
   "outputs": [
    {
     "name": "stdout",
     "output_type": "stream",
     "text": [
      "Grade with high performer are  [92 95 98]\n"
     ]
    }
   ],
   "source": [
    "#Q8\n",
    "above90 = []\n",
    "grade =np.array( [85, 90, 88, 92, 95, 80, 75, 98, 89, 83])\n",
    "for score in grade:\n",
    "    if score > 90:\n",
    "        above90.append(score)\n",
    "high_performers = np.array(above90)\n",
    "print(\"Grade with high performer are \" , high_performers)"
   ]
  },
  {
   "cell_type": "code",
   "execution_count": null,
   "id": "597de4d8",
   "metadata": {
    "id": "597de4d8",
    "outputId": "5f17ffd0-b303-458d-e26f-9e3fe6da2595"
   },
   "outputs": [
    {
     "name": "stdout",
     "output_type": "stream",
     "text": [
      "Passsing grade are  [85 90 88 92 95 80 98 89 83]\n"
     ]
    }
   ],
   "source": [
    "#9\n",
    "gradeabove75 = []\n",
    "grade =np.array( [85, 90, 88, 92, 95, 80, 75, 98, 89, 83])\n",
    "for score in grade:\n",
    "    if score > 75:\n",
    "        gradeabove75.append(score)\n",
    "passing_grades = np.array(gradeabove75)\n",
    "print( \"Passsing grades are \",passing_grades)"
   ]
  }
 ],
 "metadata": {
  "colab": {
   "provenance": []
  },
  "kernelspec": {
   "display_name": "Python 3 (ipykernel)",
   "language": "python",
   "name": "python3"
  },
  "language_info": {
   "codemirror_mode": {
    "name": "ipython",
    "version": 3
   },
   "file_extension": ".py",
   "mimetype": "text/x-python",
   "name": "python",
   "nbconvert_exporter": "python",
   "pygments_lexer": "ipython3",
   "version": "3.11.5"
  }
 },
 "nbformat": 4,
 "nbformat_minor": 5
}
